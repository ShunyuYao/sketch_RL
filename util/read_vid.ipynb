{
 "cells": [
  {
   "cell_type": "code",
   "execution_count": 1,
   "metadata": {},
   "outputs": [],
   "source": [
    "import cv2"
   ]
  },
  {
   "cell_type": "code",
   "execution_count": 9,
   "metadata": {},
   "outputs": [],
   "source": [
    "video_dir = '/media/yaosy/办公/bdmeet/videos/Dance2.mp4'\n",
    "video = cv2.VideoCapture(video_dir)"
   ]
  },
  {
   "cell_type": "code",
   "execution_count": 10,
   "metadata": {},
   "outputs": [
    {
     "data": {
      "text/plain": [
       "False"
      ]
     },
     "execution_count": 10,
     "metadata": {},
     "output_type": "execute_result"
    }
   ],
   "source": [
    "video.isOpened()"
   ]
  },
  {
   "cell_type": "code",
   "execution_count": 11,
   "metadata": {},
   "outputs": [],
   "source": [
    "ok, frame = video.read()"
   ]
  },
  {
   "cell_type": "code",
   "execution_count": 12,
   "metadata": {},
   "outputs": [
    {
     "data": {
      "text/plain": [
       "False"
      ]
     },
     "execution_count": 12,
     "metadata": {},
     "output_type": "execute_result"
    }
   ],
   "source": [
    "ok"
   ]
  },
  {
   "cell_type": "code",
   "execution_count": 13,
   "metadata": {},
   "outputs": [],
   "source": [
    "frame"
   ]
  },
  {
   "cell_type": "code",
   "execution_count": 15,
   "metadata": {},
   "outputs": [
    {
     "data": {
      "text/plain": [
       "array([[[185, 173, 166],\n",
       "        [185, 173, 166],\n",
       "        [185, 173, 166],\n",
       "        ...,\n",
       "        [186, 176, 171],\n",
       "        [186, 176, 171],\n",
       "        [186, 176, 171]],\n",
       "\n",
       "       [[185, 173, 166],\n",
       "        [185, 173, 166],\n",
       "        [185, 173, 166],\n",
       "        ...,\n",
       "        [186, 176, 171],\n",
       "        [186, 176, 171],\n",
       "        [186, 176, 171]],\n",
       "\n",
       "       [[185, 173, 166],\n",
       "        [185, 173, 166],\n",
       "        [185, 173, 166],\n",
       "        ...,\n",
       "        [186, 176, 171],\n",
       "        [186, 176, 171],\n",
       "        [186, 176, 171]],\n",
       "\n",
       "       ...,\n",
       "\n",
       "       [[ 96, 108, 120],\n",
       "        [ 97, 109, 121],\n",
       "        [ 97, 109, 121],\n",
       "        ...,\n",
       "        [116, 134, 148],\n",
       "        [116, 134, 148],\n",
       "        [116, 134, 148]],\n",
       "\n",
       "       [[ 95, 107, 119],\n",
       "        [ 95, 107, 119],\n",
       "        [ 97, 109, 121],\n",
       "        ...,\n",
       "        [116, 134, 148],\n",
       "        [117, 135, 149],\n",
       "        [116, 134, 148]],\n",
       "\n",
       "       [[ 94, 106, 118],\n",
       "        [ 94, 106, 118],\n",
       "        [ 99, 111, 123],\n",
       "        ...,\n",
       "        [116, 134, 148],\n",
       "        [117, 135, 149],\n",
       "        [117, 135, 149]]], dtype=uint8)"
      ]
     },
     "execution_count": 15,
     "metadata": {},
     "output_type": "execute_result"
    }
   ],
   "source": [
    "cv2.imread('/home/yaosy/Diskb/bdmeet/yaosy/black1/img_000019.png')"
   ]
  },
  {
   "cell_type": "code",
   "execution_count": null,
   "metadata": {},
   "outputs": [],
   "source": []
  }
 ],
 "metadata": {
  "kernelspec": {
   "display_name": "Python 3",
   "language": "python",
   "name": "python3"
  },
  "language_info": {
   "codemirror_mode": {
    "name": "ipython",
    "version": 3
   },
   "file_extension": ".py",
   "mimetype": "text/x-python",
   "name": "python",
   "nbconvert_exporter": "python",
   "pygments_lexer": "ipython3",
   "version": "3.6.7"
  }
 },
 "nbformat": 4,
 "nbformat_minor": 2
}
